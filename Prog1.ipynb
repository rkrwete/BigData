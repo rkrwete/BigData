{
 "cells": [
  {
   "cell_type": "code",
   "execution_count": 1,
   "id": "e54176da-b0b6-4624-8b22-af45a12eaa57",
   "metadata": {},
   "outputs": [],
   "source": [
    "# Индексы Dst, Ae, Al, Bx, By, Bz, Vsw, Dsw, Tsw, Kp, Ap, F107, Lalfa\n",
    "import spaceweather as sw\n",
    "import pandas as pd\n",
    "import datetime"
   ]
  },
  {
   "cell_type": "code",
   "execution_count": 3,
   "id": "ecd6a573-038a-4656-9a28-af2890f9e8da",
   "metadata": {},
   "outputs": [
    {
     "name": "stdout",
     "output_type": "stream",
     "text": [
      "                timestamp  Dst    AE     AL    B_x  B_y_GSE  B_z_GSE  \\\n",
      "0     2022-04-01 00:00:00    9  9999  99999  -13.7     17.2      7.8   \n",
      "1     2022-04-01 01:00:00   10  9999  99999  -12.0     19.0      5.3   \n",
      "2     2022-04-01 02:00:00    2  9999  99999   -9.7     20.0      1.8   \n",
      "3     2022-04-01 03:00:00    3  9999  99999   -7.6     19.6     -3.2   \n",
      "4     2022-04-01 04:00:00   10  9999  99999   -5.9     19.2     -2.6   \n",
      "...                   ...  ...   ...    ...    ...      ...      ...   \n",
      "17540 2024-03-31 20:00:00   -4  9999  99999  999.9    999.9    999.9   \n",
      "17541 2024-03-31 21:00:00   -5  9999  99999  999.9    999.9    999.9   \n",
      "17542 2024-03-31 22:00:00   -9  9999  99999  999.9    999.9    999.9   \n",
      "17543 2024-03-31 23:00:00  -11  9999  99999  999.9    999.9    999.9   \n",
      "17544 2024-04-01 00:00:00  -16  9999  99999  999.9    999.9    999.9   \n",
      "\n",
      "       v_plasma  n_p       T_p   Kp  Ap  f107_adj       Lya  \n",
      "0         471.0  5.3   11997.0  3.0  15     146.4  0.008333  \n",
      "1         471.0  5.4   12513.0  3.0  15     146.4  0.008333  \n",
      "2         489.0  1.5   10513.0  3.0  15     146.4  0.008333  \n",
      "3         494.0  1.4    8179.0  3.0  15     146.4  0.008333  \n",
      "4         472.0  3.1   11405.0  3.0  15     146.4  0.008333  \n",
      "...         ...  ...       ...  ...  ..       ...       ...  \n",
      "17540     428.0  4.5   93232.0  1.0   4     133.4  0.007929  \n",
      "17541     464.0  3.0  199513.0  2.3   9     133.4  0.007929  \n",
      "17542     499.0  2.5  247652.0  2.3   9     133.4  0.007929  \n",
      "17543     508.0  2.8  283960.0  2.3   9     133.4  0.007929  \n",
      "17544     522.0  2.5  314232.0  2.0   7     120.3  0.007868  \n",
      "\n",
      "[17545 rows x 14 columns]\n"
     ]
    }
   ],
   "source": [
    "# Создаем список дат за два года от апреля 2022 до апреля 2024\n",
    "startDate = datetime.datetime(2022, 4, 1)\n",
    "endDate = datetime.datetime(2024, 4, 1)\n",
    "\n",
    "# Функция для выгрузки данных за период\n",
    "def getData(startDate, endDate):\n",
    "    # Сформировать массив годов\n",
    "    startYear = int(startDate.year)\n",
    "    endYear = int(endDate.year)\n",
    "    years = []\n",
    "    while startYear <= endYear:\n",
    "        years.append(startYear)\n",
    "        startYear += 1 \n",
    "\n",
    "    dataAllYear = pd.DataFrame()\n",
    "    for year in years:\n",
    "        dataYear = sw.omnie_hourly(int(year), cache=True)\n",
    "        dataAllYear = pd.concat([dataAllYear, dataYear], ignore_index=True)\n",
    "\n",
    "    # Выбор необходимых индексов\n",
    "    dataAllYear = dataAllYear[['year', 'doy', 'hour', 'Dst', 'AE', 'AL', 'B_x', 'B_y_GSE', 'B_z_GSE',  'v_plasma', 'n_p', 'T_p', 'Kp', 'Ap', 'f107_adj', 'Lya']]\n",
    "\n",
    "    # Преобразование столбцов year, doy, hour во временные метки\n",
    "    dataAllYear['date'] = pd.to_datetime(dataAllYear['year'] * 1000 + dataAllYear['doy'], format='%Y%j', errors='coerce')\n",
    "    dataAllYear['month'] = dataAllYear['date'].dt.month\n",
    "    dataAllYear['day'] = dataAllYear['date'].dt.day\n",
    "    dataAllYear['timestamp'] = pd.to_datetime(dataAllYear[['year', 'day', 'month', 'hour']], format='%Y %j %m %H', utc=True).dt.strftime('%Y-%m-%d %H:%M:%S')\n",
    "\n",
    "    # Удалить ненужные столбцы\n",
    "    dataAllYear = dataAllYear.drop(columns=['date'])\n",
    "    dataAllYear = dataAllYear.drop(columns=['doy'])\n",
    "    dataAllYear = dataAllYear.drop(columns=['year'])\n",
    "    dataAllYear = dataAllYear.drop(columns=['day'])\n",
    "    dataAllYear = dataAllYear.drop(columns=['month'])\n",
    "    dataAllYear = dataAllYear.drop(columns=['hour'])\n",
    "\n",
    "    # Переупорядочить столбцы, чтобы 'timestamp' был первым\n",
    "    columnOrder = ['timestamp'] + [column for column in dataAllYear if column != 'timestamp']\n",
    "    dataAllYear = dataAllYear[columnOrder]\n",
    "    \n",
    "    # Cрез по нужному периоду\n",
    "    dataAllYear['timestamp'] = pd.to_datetime(dataAllYear['timestamp'])\n",
    "    dataAllYear = dataAllYear[(dataAllYear['timestamp'] >= startDate) & (dataAllYear['timestamp'] <= endDate)]\n",
    "    \n",
    "    # Обновить индексы\n",
    "    dataAllYear.reset_index(drop=True, inplace=True)\n",
    "\n",
    "    return dataAllYear\n",
    "\n",
    "\n",
    "\n",
    "\n",
    "\n",
    "print(getData(startDate, endDate))\n",
    "\n",
    "# dataAllYear.to_pickle('Data.pkl')\n",
    "\n",
    "# import pickle\n",
    "# data = pickle.load(open('Data.pkl', 'rb'))\n",
    "# print(data)"
   ]
  },
  {
   "cell_type": "code",
   "execution_count": null,
   "id": "df577937-ae19-4e11-873b-67edf8f44042",
   "metadata": {},
   "outputs": [],
   "source": []
  }
 ],
 "metadata": {
  "kernelspec": {
   "display_name": "Python 3 (ipykernel)",
   "language": "python",
   "name": "python3"
  },
  "language_info": {
   "codemirror_mode": {
    "name": "ipython",
    "version": 3
   },
   "file_extension": ".py",
   "mimetype": "text/x-python",
   "name": "python",
   "nbconvert_exporter": "python",
   "pygments_lexer": "ipython3",
   "version": "3.12.3"
  }
 },
 "nbformat": 4,
 "nbformat_minor": 5
}
